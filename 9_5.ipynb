{
 "metadata": {
  "name": ""
 },
 "nbformat": 3,
 "nbformat_minor": 0,
 "worksheets": [
  {
   "cells": [
    {
     "cell_type": "code",
     "collapsed": false,
     "input": [
      "import numpy as np\n",
      "import scipy as sp\n",
      "import matplotlib.pyplot as plt"
     ],
     "language": "python",
     "metadata": {},
     "outputs": [],
     "prompt_number": 1
    },
    {
     "cell_type": "code",
     "collapsed": false,
     "input": [
      "# \u8a13\u7df4\u6a19\u672c \uff12\u6b21\u5143\u30c7\u30fc\u30bf\n",
      "x = randn(50, 2)\n",
      "\n",
      "# \u6a19\u672c\u306b\u8cbc\u308b\u30e9\u30d9\u30eb 1 or -1\n",
      "# y = x\u3088\u308a\u4e0a\u5074\u306e\u70b9\u306a\u3089 -1 \u4e0b\u306a\u3089 1\n",
      "y = 2*(x[:,0]>x[:,1])-1"
     ],
     "language": "python",
     "metadata": {},
     "outputs": [],
     "prompt_number": 2
    },
    {
     "cell_type": "code",
     "collapsed": false,
     "input": [
      "# \u5206\u985e\u3057\u305f\u9818\u57df\u3092\u63cf\u753b\u3059\u308b\u305f\u3081\u306e\u5ea7\u6a19\n",
      "X0 = np.linspace(-3, 3, 50)\n",
      "X = [[], []]\n",
      "X[0], X[1] = np.meshgrid(X0, X0)"
     ],
     "language": "python",
     "metadata": {},
     "outputs": [],
     "prompt_number": 3
    },
    {
     "cell_type": "code",
     "collapsed": false,
     "input": [
      "# 0 or 1 \u3092\u4f5c\u308b\n",
      "# 0\u306a\u3089x\u30921\u306a\u3089y\u3092\u30bd\u30fc\u30c8\u3059\u308b\u3002\u3064\u307e\u308a0\u3060\u3068\u5883\u754c\u304cx\u306b\u5782\u76f4\u306b\u5f15\u304b\u308c\u308b\u3002\n",
      "d = np.ceil(2*np.random.rand())-1\n",
      "d = 0"
     ],
     "language": "python",
     "metadata": {},
     "outputs": [],
     "prompt_number": 26
    },
    {
     "cell_type": "code",
     "collapsed": false,
     "input": [
      "# \u5c0f\u3055\u3044\u9806\u306b\u30bd\u30fc\u30c8\n",
      "\n",
      "# \u5024\n",
      "xs = [i[1] for i in sorted(enumerate(x[:, d]), key=lambda x:x[1])]\n",
      "\n",
      "# \u30bd\u30fc\u30c8\u524d\u306eindex\n",
      "xi = [i[0] for i in sorted(enumerate(x[:, d]), key=lambda x:x[1])]"
     ],
     "language": "python",
     "metadata": {},
     "outputs": [],
     "prompt_number": 27
    },
    {
     "cell_type": "code",
     "collapsed": false,
     "input": [
      "# \u7d2f\u8a08\n",
      "# y\u306f\u30e9\u30d9\u30eb\u3001x\u306e\u5c0f\u3055\u3044\u9806\u306b\u4e26\u3079\u305f\u3084\u3064\u3092\u7d2f\u8a08\u3057\u3066\u3044\u308b\u3002\u30e9\u30d9\u30eb\u306e\u7d2f\u8a08\u3002\n",
      "el = np.cumsum(y[xi])\n",
      "\n",
      "# \u9006\u304b\u3089\u6570\u3048\u305f\u3082\u306e\u306e\u7d2f\u8a08\n",
      "eu = np.cumsum(y[list(reversed(xi))])"
     ],
     "language": "python",
     "metadata": {},
     "outputs": [],
     "prompt_number": 28
    },
    {
     "cell_type": "code",
     "collapsed": false,
     "input": [
      "# e\u306f \n",
      "e = list(reversed(eu[0:-1])) - el[0:-1]"
     ],
     "language": "python",
     "metadata": {},
     "outputs": [],
     "prompt_number": 29
    },
    {
     "cell_type": "code",
     "collapsed": false,
     "input": [
      "# ei \u306f\u5206\u96e2\u8aa4\u5dee\u304c\u6700\u5c0f\n",
      "em = np.max(np.abs(e))\n",
      "ei = np.argmax(np.abs(e))"
     ],
     "language": "python",
     "metadata": {},
     "outputs": [],
     "prompt_number": 30
    },
    {
     "cell_type": "code",
     "collapsed": false,
     "input": [
      "# index\u304c xs[ei]\u3068xs[ei+1]\u3067\u5206\u3051\u308b\u3068\u3001\u8aa4\u5dee\u304c\u6700\u5c0f\u306b\u306a\u308b\u306e\u3067\u3001\u4e21\u8005\u306e\u5e73\u5747\u3092\u53d6\u308b\u3002\n",
      "c = np.mean([xs[ei], xs[ei+1]])"
     ],
     "language": "python",
     "metadata": {},
     "outputs": [],
     "prompt_number": 31
    },
    {
     "cell_type": "code",
     "collapsed": false,
     "input": [
      "# \u57fa\u6e96\u306e\u70b9\u304c-1 or 1\u304b\n",
      "s = np.sign(e[ei])\n",
      "print s"
     ],
     "language": "python",
     "metadata": {},
     "outputs": [
      {
       "output_type": "stream",
       "stream": "stdout",
       "text": [
        "1\n"
       ]
      }
     ],
     "prompt_number": 32
    },
    {
     "cell_type": "code",
     "collapsed": false,
     "input": [
      "# X\u306fnp.linspace\u3067\u4f5c\u3089\u308c\u305f\u3082\u306e\u3067\u3001\u305d\u308c\u3092c(\u57fa\u6e96\u70b9\u306e\u5ea7\u6a19)\u306e\u5206\u3060\u3051\u52d5\u304b\u3059\u3002\n",
      "Y = np.sign(s*(X[int(d)]-c))"
     ],
     "language": "python",
     "metadata": {},
     "outputs": [],
     "prompt_number": 33
    },
    {
     "cell_type": "code",
     "collapsed": false,
     "input": [
      "plt.axis([-3, 3, -3, 3])\n",
      "plt.contourf(X0, X0, Y, alpha=0.5)\n",
      "\n",
      "plt.plot(x[y==-1, 0], x[y==-1, 1], 'bo')\n",
      "plt.plot(x[y==1, 0], x[y==1, 1], 'rx')"
     ],
     "language": "python",
     "metadata": {},
     "outputs": [
      {
       "metadata": {},
       "output_type": "pyout",
       "prompt_number": 34,
       "text": [
        "[<matplotlib.lines.Line2D at 0x10a2d8e50>]"
       ]
      },
      {
       "metadata": {},
       "output_type": "display_data",
       "png": "[encoded data removed]",
       "text": [
        "<matplotlib.figure.Figure at 0x10a180850>"
       ]
      }
     ],
     "prompt_number": 34
    },
    {
     "cell_type": "code",
     "collapsed": false,
     "input": [],
     "language": "python",
     "metadata": {},
     "outputs": []
    }
   ],
   "metadata": {}
  }
 ]
}