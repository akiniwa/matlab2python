{
 "metadata": {
  "name": ""
 },
 "nbformat": 3,
 "nbformat_minor": 0,
 "worksheets": [
  {
   "cells": [
    {
     "cell_type": "code",
     "collapsed": false,
     "input": [
      "import numpy as np\n",
      "import scipy as sp\n",
      "%pylab inline"
     ],
     "language": "python",
     "metadata": {},
     "outputs": [
      {
       "output_type": "stream",
       "stream": "stdout",
       "text": [
        "Populating the interactive namespace from numpy and matplotlib\n"
       ]
      },
      {
       "output_type": "stream",
       "stream": "stderr",
       "text": [
        "WARNING: pylab import has clobbered these variables: ['e']\n",
        "`%pylab --no-import-all` prevents importing * from pylab and numpy\n"
       ]
      }
     ],
     "prompt_number": 24
    },
    {
     "cell_type": "code",
     "collapsed": false,
     "input": [
      "\"\"\"\n",
      "(\u6ce8\u610f)\n",
      "t \u306f\u30d1\u30e9\u30e1\u30fc\u30bf\u03b8\u3067\u3059\n",
      "t \u306f\u5206\u5e03\u5f0f\u306e\u9ad8\u3055\u3092\u6c7a\u3081\u3066\u304f\u308c\u308b\u306e\u3067\u3001\n",
      "\"\"\""
     ],
     "language": "python",
     "metadata": {},
     "outputs": [
      {
       "metadata": {},
       "output_type": "pyout",
       "prompt_number": 25,
       "text": [
        "'\\n(\\xe6\\xb3\\xa8\\xe6\\x84\\x8f)\\nt \\xe3\\x81\\xaf\\xe3\\x83\\x91\\xe3\\x83\\xa9\\xe3\\x83\\xa1\\xe3\\x83\\xbc\\xe3\\x82\\xbf\\xce\\xb8\\xe3\\x81\\xa7\\xe3\\x81\\x99\\nt \\xe3\\x81\\xaf\\xe5\\x88\\x86\\xe5\\xb8\\x83\\xe5\\xbc\\x8f\\xe3\\x81\\xae\\xe9\\xab\\x98\\xe3\\x81\\x95\\xe3\\x82\\x92\\xe6\\xb1\\xba\\xe3\\x82\\x81\\xe3\\x81\\xa6\\xe3\\x81\\x8f\\xe3\\x82\\x8c\\xe3\\x82\\x8b\\xe3\\x81\\xae\\xe3\\x81\\xa7\\xe3\\x80\\x81\\n'"
       ]
      }
     ],
     "prompt_number": 25
    },
    {
     "cell_type": "code",
     "collapsed": false,
     "input": [
      "n = 50\n",
      "N = 1000\n",
      "x = np.linspace(-3, 3, n)\n",
      "X = np.linspace(-3, 3, N)\n",
      "pix = np.pi * x\n",
      "y = sin(pix)/(pix) + 0.1*x + 0.05*np.random.randn(n)"
     ],
     "language": "python",
     "metadata": {},
     "outputs": [],
     "prompt_number": 26
    },
    {
     "cell_type": "code",
     "collapsed": false,
     "input": [
      "# \u30d0\u30f3\u30c9\u5e45\n",
      "hh = 2*(0.3**2)\n",
      "# \u521d\u671f\u5024\u30d1\u30e9\u30e1\u30fc\u30bf\n",
      "# \u30d1\u30e9\u30e1\u30fc\u30bf\u306f\u3001\u5165\u529b\u30c7\u30fc\u30bf\u305d\u308c\u305e\u308c\u306b\u5bfe\u3059\u308b\u30ab\u30fc\u30cd\u30eb\u306b\u304b\u3051\u3089\u308c\u308b\u3002t * K(x, x_i) \u306750 x 1\n",
      "t0 = np.random.randn(n)\n",
      "# \u5b66\u7fd2\u4fc2\u6570\n",
      "e = 0.1"
     ],
     "language": "python",
     "metadata": {},
     "outputs": [],
     "prompt_number": 27
    },
    {
     "cell_type": "code",
     "collapsed": false,
     "input": [
      "K=np.exp(-(np.tile(X**2, (n, 1)).T+np.tile((x**2).T, (N, 1))-2*outer(X, x.T))/hh);\n",
      "k=np.exp(-(np.tile(x**2, (n, 1)).T+np.tile((x**2).T, (n, 1))-2*outer(x, x.T))/hh);\n",
      "F=np.dot(K, t)\n",
      "t1 = np.dot(np.dot(np.linalg.pinv(np.dot(k.T, k)), k.T), y)\n",
      "\n",
      "F1 = np.dot(K, t1)"
     ],
     "language": "python",
     "metadata": {},
     "outputs": [],
     "prompt_number": 28
    },
    {
     "cell_type": "code",
     "collapsed": false,
     "input": [
      "l = 1000.0\n",
      "t2 = np.dot(np.dot(np.linalg.pinv(np.dot(k.T, k)+l*np.eye(n)), k.T), y)"
     ],
     "language": "python",
     "metadata": {},
     "outputs": [],
     "prompt_number": 71
    },
    {
     "cell_type": "code",
     "collapsed": false,
     "input": [
      "F2 = np.dot(K,t2)"
     ],
     "language": "python",
     "metadata": {},
     "outputs": [],
     "prompt_number": 72
    },
    {
     "cell_type": "code",
     "collapsed": false,
     "input": [
      "plot(x, y, 'ro')\n",
      "plot(X, F1)\n",
      "plot(X, F2)"
     ],
     "language": "python",
     "metadata": {},
     "outputs": [
      {
       "metadata": {},
       "output_type": "pyout",
       "prompt_number": 73,
       "text": [
        "[<matplotlib.lines.Line2D at 0x1084260d0>]"
       ]
      },
      {
       "metadata": {},
       "output_type": "display_data",
       "png": "[encoded data removed]",
       "text": [
        "<matplotlib.figure.Figure at 0x1082e5890>"
       ]
      }
     ],
     "prompt_number": 73
    },
    {
     "cell_type": "code",
     "collapsed": false,
     "input": [],
     "language": "python",
     "metadata": {},
     "outputs": []
    }
   ],
   "metadata": {}
  }
 ]
}