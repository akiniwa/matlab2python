{
 "metadata": {
  "name": ""
 },
 "nbformat": 3,
 "nbformat_minor": 0,
 "worksheets": [
  {
   "cells": [
    {
     "cell_type": "code",
     "collapsed": false,
     "input": [
      "import numpy as np\n",
      "import scipy as sp\n",
      "import matplotlib.pyplot as plt"
     ],
     "language": "python",
     "metadata": {},
     "outputs": [],
     "prompt_number": 1
    },
    {
     "cell_type": "code",
     "collapsed": false,
     "input": [
      "# \u8a13\u7df4\u6a19\u672c \uff12\u6b21\u5143\u30c7\u30fc\u30bf\n",
      "n = 50\n",
      "x = randn(n, 2)\n",
      "\n",
      "# \u6a19\u672c\u306b\u8cbc\u308b\u30e9\u30d9\u30eb 1 or -1\n",
      "# y = x\u3088\u308a\u4e0a\u5074\u306e\u70b9\u306a\u3089 -1 \u4e0b\u306a\u3089 1\n",
      "y = 2*(x[:,0]>x[:,1])-1\n",
      "b = 5000\n",
      "Y = np.zeros(n)"
     ],
     "language": "python",
     "metadata": {},
     "outputs": [],
     "prompt_number": 2
    },
    {
     "cell_type": "code",
     "collapsed": false,
     "input": [
      "# \u5206\u985e\u3057\u305f\u9818\u57df\u3092\u63cf\u753b\u3059\u308b\u305f\u3081\u306e\u5ea7\u6a19\n",
      "X0 = np.linspace(-3, 3, n)\n",
      "X = [[], []]\n",
      "X[0], X[1] = np.meshgrid(X0, X0)"
     ],
     "language": "python",
     "metadata": {},
     "outputs": [],
     "prompt_number": 3
    },
    {
     "cell_type": "code",
     "collapsed": false,
     "input": [
      "for j in np.arange(b):\n",
      "    d = np.ceil(2*np.random.rand())-1\n",
      "    r = np.ceil(n*np.random.rand(n))-1\n",
      "\n",
      "    # 0 or 1 \u3092\u4f5c\u308b\n",
      "    # 0\u306a\u3089x\u30921\u306a\u3089y\u3092\u30bd\u30fc\u30c8\u3059\u308b\u3002\n",
      "    xb = np.asarray([x[i] for i in r])\n",
      "    yb = np.asarray([y[i] for i in r])\n",
      "\n",
      "    xs = [i[1] for i in sorted(enumerate(xb[:, d]), key=lambda xb:xb[1])]\n",
      "    xi = [i[0] for i in sorted(enumerate(xb[:, d]), key=lambda xb:xb[1])]\n",
      "    \n",
      "    el = np.cumsum(yb[xi])\n",
      "    eu = np.cumsum(yb[list(reversed(xi))])\n",
      "    \n",
      "    e = list(reversed(eu[0:-1])) - el[0:-1]\n",
      "\n",
      "    em = np.max(np.abs(e))\n",
      "    ei = np.argmax(np.abs(e))\n",
      "\n",
      "    c = np.mean([xs[ei], xs[ei+1]])\n",
      "    s = np.sign(e[ei])\n",
      "    Y = Y+np.sign(s*(X[int(d)]-c))/b"
     ],
     "language": "python",
     "metadata": {},
     "outputs": [],
     "prompt_number": 6
    },
    {
     "cell_type": "code",
     "collapsed": false,
     "input": [
      "plt.axis([-3, 3, -3, 3])\n",
      "plt.contourf(X0, X0, np.sign(Y), alpha=0.5)\n",
      "\n",
      "plt.plot(x[y==-1, 0], x[y==-1, 1], 'bo')\n",
      "plt.plot(x[y==1, 0], x[y==1, 1], 'rx')"
     ],
     "language": "python",
     "metadata": {},
     "outputs": [
      {
       "metadata": {},
       "output_type": "pyout",
       "prompt_number": 8,
       "text": [
        "[<matplotlib.lines.Line2D at 0x10d900b10>]"
       ]
      },
      {
       "metadata": {},
       "output_type": "display_data",
       "png": "[encoded data removed]",
       "text": [
        "<matplotlib.figure.Figure at 0x10d4e6ed0>"
       ]
      }
     ],
     "prompt_number": 8
    },
    {
     "cell_type": "code",
     "collapsed": false,
     "input": [],
     "language": "python",
     "metadata": {},
     "outputs": [],
     "prompt_number": "*"
    },
    {
     "cell_type": "code",
     "collapsed": false,
     "input": [],
     "language": "python",
     "metadata": {},
     "outputs": []
    }
   ],
   "metadata": {}
  }
 ]
}