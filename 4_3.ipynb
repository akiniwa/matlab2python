{
 "metadata": {
  "name": ""
 },
 "nbformat": 3,
 "nbformat_minor": 0,
 "worksheets": [
  {
   "cells": [
    {
     "cell_type": "code",
     "collapsed": false,
     "input": [
      "import numpy as np\n",
      "import scipy as sp"
     ],
     "language": "python",
     "metadata": {},
     "outputs": [],
     "prompt_number": 263
    },
    {
     "cell_type": "code",
     "collapsed": false,
     "input": [
      "n = 50\n",
      "N = 1000\n",
      "x = np.linspace(-3, 3, n)\n",
      "X = np.linspace(-3, 3, N)\n",
      "pix = np.pi * x\n",
      "y = sin(pix)/(pix) + 0.1*x + 0.05*np.random.randn(n)"
     ],
     "language": "python",
     "metadata": {},
     "outputs": [],
     "prompt_number": 264
    },
    {
     "cell_type": "code",
     "collapsed": false,
     "input": [
      "number = 30\n",
      "resNum = 4\n",
      "p1 = np.ones([n, number])\n",
      "P1 = np.ones([N, number])\n",
      "\n",
      "for i in np.arange(n):\n",
      "    for  j in np.arange(number/2.0):\n",
      "        p1[i][2*j+1] = sin((j+1)/2.0*x[i])\n",
      "        p1[i][2*j] = cos(j/2.0*x[i])\n",
      "        \n",
      "for i in np.arange(N):\n",
      "    for  j in np.arange(number/2.0):\n",
      "        P1[i][2*j+1] = sin((j+1)/2.0*X[i])\n",
      "        P1[i][2*j] = cos(j/2.0*X[i])\n",
      "        \n",
      "\n",
      "theta1 = np.dot(np.dot(np.linalg.pinv(np.dot(p.T, p)), p.T), y)\n",
      "F1 = np.ones(N)\n",
      "for i in np.arange(N):\n",
      "    F1[i] = sum(theta1.T * P1[i])"
     ],
     "language": "python",
     "metadata": {},
     "outputs": [],
     "prompt_number": 269
    },
    {
     "cell_type": "code",
     "collapsed": false,
     "input": [
      "p2 = np.ones([n, number])\n",
      "p2 = p*(np.concatenate([np.ones(resNum), np.zeros(number-resNum)]))\n",
      "P2 = np.ones([N, number])\n",
      "\n",
      "F2 = np.ones(N)\n",
      "\n",
      "for i in np.arange(N):\n",
      "    for  j in np.arange(number/2.0):\n",
      "        P2[i][2*j+1] = sin((j+1)/2.0*X[i])\n",
      "        P2[i][2*j] = cos(j/2.0*X[i])\n",
      "\n",
      "theta2 = np.dot(np.dot(np.linalg.pinv(np.dot(p2.T, p2)), p2.T), y)\n",
      "\n",
      "for i in np.arange(N):\n",
      "    F2[i] = sum(theta2.T * P2[i])"
     ],
     "language": "python",
     "metadata": {},
     "outputs": [],
     "prompt_number": 270
    },
    {
     "cell_type": "code",
     "collapsed": false,
     "input": [
      "plot(X, F1)\n",
      "plot(X, F2)\n",
      "scatter(x, y)"
     ],
     "language": "python",
     "metadata": {},
     "outputs": [
      {
       "metadata": {},
       "output_type": "pyout",
       "prompt_number": 271,
       "text": [
        "<matplotlib.collections.PathCollection at 0x10f92a610>"
       ]
      },
      {
       "metadata": {},
       "output_type": "display_data",
       "png": "[encoded data removed]",
       "text": [
        "<matplotlib.figure.Figure at 0x10f8f97d0>"
       ]
      }
     ],
     "prompt_number": 271
    },
    {
     "cell_type": "code",
     "collapsed": false,
     "input": [],
     "language": "python",
     "metadata": {},
     "outputs": []
    }
   ],
   "metadata": {}
  }
 ]
}