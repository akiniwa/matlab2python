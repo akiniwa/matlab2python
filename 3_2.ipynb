{
 "metadata": {
  "name": ""
 },
 "nbformat": 3,
 "nbformat_minor": 0,
 "worksheets": [
  {
   "cells": [
    {
     "cell_type": "code",
     "collapsed": false,
     "input": [
      "import numpy as np\n",
      "import scipy as sp"
     ],
     "language": "python",
     "metadata": {},
     "outputs": [],
     "prompt_number": 6
    },
    {
     "cell_type": "code",
     "collapsed": false,
     "input": [
      "n = 50\n",
      "N = 1000\n",
      "x = np.linspace(-3, 3, n)\n",
      "X = np.linspace(-3, 3, N)\n",
      "pix = np.pi * x\n",
      "y = sin(pix)/(pix) + 0.1*x + 0.05*np.random.randn(n)"
     ],
     "language": "python",
     "metadata": {},
     "outputs": [],
     "prompt_number": 7
    },
    {
     "cell_type": "code",
     "collapsed": false,
     "input": [
      "number = 30\n",
      "p = np.ones((n, number))\n",
      "P = np.ones((N, number))\n",
      "\n",
      "for i in np.arange(n):\n",
      "    for  j in np.arange(number/2.0):\n",
      "        p[i][2*j+1] = sin((j+1)/2.0*x[i])\n",
      "        p[i][2*j] = cos(j/2.0*x[i])\n",
      "\n",
      "for i in np.arange(N):\n",
      "    for  j in np.arange(number/2.0):\n",
      "        P[i][2*j+1] = sin((j+1)/2.0*X[i])\n",
      "        P[i][2*j] = cos(j/2.0*X[i])"
     ],
     "language": "python",
     "metadata": {},
     "outputs": [],
     "prompt_number": 8
    },
    {
     "cell_type": "code",
     "collapsed": false,
     "input": [
      "theta = np.dot(np.dot(np.linalg.pinv(np.dot(p.T, p)), p.T), y)\n",
      "dom = np.ones(N)\n",
      "\n",
      "for i in np.arange(N):\n",
      "    dom[i] = sum(theta.T * P[i])"
     ],
     "language": "python",
     "metadata": {},
     "outputs": [],
     "prompt_number": 11
    },
    {
     "cell_type": "code",
     "collapsed": false,
     "input": [
      "plot(X, dom)\n",
      "scatter(x, y)"
     ],
     "language": "python",
     "metadata": {},
     "outputs": [
      {
       "metadata": {},
       "output_type": "pyout",
       "prompt_number": 12,
       "text": [
        "<matplotlib.collections.PathCollection at 0x11211ef10>"
       ]
      },
      {
       "metadata": {},
       "output_type": "display_data",
       "png": "[encoded data removed]",
       "text": [
        "<matplotlib.figure.Figure at 0x112105750>"
       ]
      }
     ],
     "prompt_number": 12
    },
    {
     "cell_type": "code",
     "collapsed": false,
     "input": [],
     "language": "python",
     "metadata": {},
     "outputs": [],
     "prompt_number": 12
    },
    {
     "cell_type": "code",
     "collapsed": false,
     "input": [],
     "language": "python",
     "metadata": {},
     "outputs": [],
     "prompt_number": 13
    },
    {
     "cell_type": "code",
     "collapsed": false,
     "input": [],
     "language": "python",
     "metadata": {},
     "outputs": []
    }
   ],
   "metadata": {}
  }
 ]
}