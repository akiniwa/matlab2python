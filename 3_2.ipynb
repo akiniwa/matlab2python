{
 "metadata": {
  "name": ""
 },
 "nbformat": 3,
 "nbformat_minor": 0,
 "worksheets": [
  {
   "cells": [
    {
     "cell_type": "code",
     "collapsed": false,
     "input": [
      "import numpy as np\n",
      "import scipy as sp"
     ],
     "language": "python",
     "metadata": {},
     "outputs": [],
     "prompt_number": 84
    },
    {
     "cell_type": "code",
     "collapsed": false,
     "input": [
      "n = 10\n",
      "N = 1000\n",
      "x = np.linspace(-4, 2, n)\n",
      "X = np.linspace(-4, 2, N)\n",
      "# pix = np.pi * x\n",
      "# y = sin(pix)/(pix) + 0.1*x + 0.05*np.random.randn(n)\n",
      "y = 0.5*x - 0.1* (x**2) + 0.3 * (x**3)+ 0.5*np.random.randn(n) + 25\n",
      "scatter(x, y)\n",
      "ylim(ymax=35)"
     ],
     "language": "python",
     "metadata": {},
     "outputs": [
      {
       "metadata": {},
       "output_type": "pyout",
       "prompt_number": 85,
       "text": [
        "(0.0, 35)"
       ]
      },
      {
       "metadata": {},
       "output_type": "display_data",
       "png": "[encoded data removed]",
       "text": [
        "<matplotlib.figure.Figure at 0x10a661310>"
       ]
      }
     ],
     "prompt_number": 85
    },
    {
     "cell_type": "code",
     "collapsed": false,
     "input": [
      "number = 3\n",
      "p3 = np.ones((n, number+1))\n",
      "P3 = np.ones((N, number+1))\n",
      "\n",
      "for i in np.arange(n):\n",
      "    for  j in np.arange(number+1):\n",
      "        p3[i][j] = x[i]**j\n",
      "        \n",
      "for i in np.arange(N):\n",
      "    for  j in np.arange(number+1):\n",
      "        P3[i][j] = X[i]**j"
     ],
     "language": "python",
     "metadata": {},
     "outputs": [],
     "prompt_number": 122
    },
    {
     "cell_type": "code",
     "collapsed": false,
     "input": [
      "number = 1\n",
      "p = np.ones((n, number+1))\n",
      "P = np.ones((N, number+1))\n",
      "\n",
      "for i in np.arange(n):\n",
      "    for  j in np.arange(number+1):\n",
      "        p[i][j] = x[i]**j\n",
      "        if j==1:\n",
      "            print p[i][j]\n",
      "        \n",
      "for i in np.arange(N):\n",
      "    for  j in np.arange(number+1):\n",
      "        P[i][j] = X[i]**j"
     ],
     "language": "python",
     "metadata": {},
     "outputs": [
      {
       "output_type": "stream",
       "stream": "stdout",
       "text": [
        "-4.0\n",
        "-3.33333333333\n",
        "-2.66666666667\n",
        "-2.0\n",
        "-1.33333333333\n",
        "-0.666666666667\n",
        "0.0\n",
        "0.666666666667\n",
        "1.33333333333\n",
        "2.0\n"
       ]
      }
     ],
     "prompt_number": 123
    },
    {
     "cell_type": "code",
     "collapsed": false,
     "input": [
      "number = 2\n",
      "p2 = np.ones((n, number+1))\n",
      "P2 = np.ones((N, number+1))\n",
      "\n",
      "for i in np.arange(n):\n",
      "    for  j in np.arange(number+1):\n",
      "        p2[i][j] = x[i]**j\n",
      "        \n",
      "for i in np.arange(N):\n",
      "    for  j in np.arange(number+1):\n",
      "        P2[i][j] = X[i]**j"
     ],
     "language": "python",
     "metadata": {},
     "outputs": [],
     "prompt_number": 124
    },
    {
     "cell_type": "code",
     "collapsed": false,
     "input": [
      "number = 8\n",
      "p8 = np.ones((n, number+1))\n",
      "P8 = np.ones((N, number+1))\n",
      "\n",
      "for i in np.arange(n):\n",
      "    for  j in np.arange(number+1):\n",
      "        p8[i][j] = x[i]**j\n",
      "\n",
      "for i in np.arange(N):\n",
      "    for  j in np.arange(number+1):\n",
      "        P8[i][j] = X[i]**j"
     ],
     "language": "python",
     "metadata": {},
     "outputs": [],
     "prompt_number": 125
    },
    {
     "cell_type": "code",
     "collapsed": false,
     "input": [
      "theta = np.dot(np.dot(np.linalg.pinv(np.dot(p.T, p)), p.T), y)\n",
      "dom = np.ones(N)\n",
      "\n",
      "for i in np.arange(N):\n",
      "    dom[i] = sum(theta.T * P[i])"
     ],
     "language": "python",
     "metadata": {},
     "outputs": [],
     "prompt_number": 126
    },
    {
     "cell_type": "code",
     "collapsed": false,
     "input": [
      "theta = np.dot(np.dot(np.linalg.pinv(np.dot(p2.T, p2)), p2.T), y)\n",
      "dom2 = np.ones(N)\n",
      "\n",
      "for i in np.arange(N):\n",
      "    dom2[i] = sum(theta.T * P2[i])"
     ],
     "language": "python",
     "metadata": {},
     "outputs": [],
     "prompt_number": 127
    },
    {
     "cell_type": "code",
     "collapsed": false,
     "input": [
      "theta = np.dot(np.dot(np.linalg.pinv(np.dot(p3.T, p3)), p3.T), y)\n",
      "dom3 = np.ones(N)\n",
      "\n",
      "for i in np.arange(N):\n",
      "    dom3[i] = sum(theta.T * P3[i])"
     ],
     "language": "python",
     "metadata": {},
     "outputs": [],
     "prompt_number": 128
    },
    {
     "cell_type": "code",
     "collapsed": false,
     "input": [
      "theta = np.dot(np.dot(np.linalg.pinv(np.dot(p8.T, p8)), p8.T), y)\n",
      "dom8 = np.ones(N)\n",
      "\n",
      "for i in np.arange(N):\n",
      "    dom8[i] = sum(theta.T * P8[i])"
     ],
     "language": "python",
     "metadata": {},
     "outputs": [],
     "prompt_number": 129
    },
    {
     "cell_type": "code",
     "collapsed": false,
     "input": [
      "plot(X, dom)\n",
      "plot(X, dom2)\n",
      "plot(X, dom3)\n",
      "scatter(x, y)"
     ],
     "language": "python",
     "metadata": {},
     "outputs": [
      {
       "metadata": {},
       "output_type": "pyout",
       "prompt_number": 134,
       "text": [
        "<matplotlib.collections.PathCollection at 0x10afc8110>"
       ]
      },
      {
       "metadata": {},
       "output_type": "display_data",
       "png": "[encoded data removed]",
       "text": [
        "<matplotlib.figure.Figure at 0x10ae6d550>"
       ]
      }
     ],
     "prompt_number": 134
    },
    {
     "cell_type": "code",
     "collapsed": false,
     "input": [
      "plot(X, dom)\n",
      "plot(X, dom8)\n",
      "scatter(x, y)"
     ],
     "language": "python",
     "metadata": {},
     "outputs": [
      {
       "metadata": {},
       "output_type": "pyout",
       "prompt_number": 135,
       "text": [
        "<matplotlib.collections.PathCollection at 0x10b059790>"
       ]
      },
      {
       "metadata": {},
       "output_type": "display_data",
       "png": "[encoded data removed]",
       "text": [
        "<matplotlib.figure.Figure at 0x10b03a890>"
       ]
      }
     ],
     "prompt_number": 135
    },
    {
     "cell_type": "code",
     "collapsed": false,
     "input": [
      "p1"
     ],
     "language": "python",
     "metadata": {},
     "outputs": [
      {
       "ename": "NameError",
       "evalue": "name 'p1' is not defined",
       "output_type": "pyerr",
       "traceback": [
        "\u001b[0;31m---------------------------------------------------------------------------\u001b[0m\n\u001b[0;31mNameError\u001b[0m                                 Traceback (most recent call last)",
        "\u001b[0;32m<ipython-input-116-ff27148a4f43>\u001b[0m in \u001b[0;36m<module>\u001b[0;34m()\u001b[0m\n\u001b[0;32m----> 1\u001b[0;31m \u001b[0mp1\u001b[0m\u001b[0;34m\u001b[0m\u001b[0m\n\u001b[0m",
        "\u001b[0;31mNameError\u001b[0m: name 'p1' is not defined"
       ]
      }
     ],
     "prompt_number": 116
    },
    {
     "cell_type": "code",
     "collapsed": false,
     "input": [],
     "language": "python",
     "metadata": {},
     "outputs": [
      {
       "ename": "NameError",
       "evalue": "name 'p' is not defined",
       "output_type": "pyerr",
       "traceback": [
        "\u001b[0;31m---------------------------------------------------------------------------\u001b[0m\n\u001b[0;31mNameError\u001b[0m                                 Traceback (most recent call last)",
        "\u001b[0;32m<ipython-input-2-9d7bf0753729>\u001b[0m in \u001b[0;36m<module>\u001b[0;34m()\u001b[0m\n\u001b[0;32m----> 1\u001b[0;31m \u001b[0mp\u001b[0m\u001b[0;34m\u001b[0m\u001b[0m\n\u001b[0m",
        "\u001b[0;31mNameError\u001b[0m: name 'p' is not defined"
       ]
      }
     ],
     "prompt_number": 2
    },
    {
     "cell_type": "code",
     "collapsed": false,
     "input": [],
     "language": "python",
     "metadata": {},
     "outputs": [],
     "prompt_number": 93
    },
    {
     "cell_type": "code",
     "collapsed": false,
     "input": [],
     "language": "python",
     "metadata": {},
     "outputs": []
    }
   ],
   "metadata": {}
  }
 ]
}