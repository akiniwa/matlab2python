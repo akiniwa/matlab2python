{
 "metadata": {
  "name": ""
 },
 "nbformat": 3,
 "nbformat_minor": 0,
 "worksheets": [
  {
   "cells": [
    {
     "cell_type": "code",
     "collapsed": false,
     "input": [
      "1import numpy as np\n",
      "import scipy as sp\n",
      "%pylab inline"
     ],
     "language": "python",
     "metadata": {},
     "outputs": [
      {
       "output_type": "stream",
       "stream": "stdout",
       "text": [
        "Populating the interactive namespace from numpy and matplotlib\n"
       ]
      },
      {
       "output_type": "stream",
       "stream": "stderr",
       "text": [
        "WARNING: pylab import has clobbered these variables: ['e']\n",
        "`%pylab --no-import-all` prevents importing * from pylab and numpy\n"
       ]
      }
     ],
     "prompt_number": 289
    },
    {
     "cell_type": "code",
     "collapsed": false,
     "input": [
      "\"\"\"\n",
      "(\u6ce8\u610f)\n",
      "t \u306f\u30d1\u30e9\u30e1\u30fc\u30bf\u03b8\u3067\u3059\n",
      "t \u306f\u5206\u5e03\u5f0f\u306e\u9ad8\u3055\u3092\u6c7a\u3081\u3066\u304f\u308c\u308b\u306e\u3067\u3001\n",
      "\"\"\""
     ],
     "language": "python",
     "metadata": {},
     "outputs": [
      {
       "metadata": {},
       "output_type": "pyout",
       "prompt_number": 290,
       "text": [
        "'\\n(\\xe6\\xb3\\xa8\\xe6\\x84\\x8f)\\nt \\xe3\\x81\\xaf\\xe3\\x83\\x91\\xe3\\x83\\xa9\\xe3\\x83\\xa1\\xe3\\x83\\xbc\\xe3\\x82\\xbf\\xce\\xb8\\xe3\\x81\\xa7\\xe3\\x81\\x99\\nt \\xe3\\x81\\xaf\\xe5\\x88\\x86\\xe5\\xb8\\x83\\xe5\\xbc\\x8f\\xe3\\x81\\xae\\xe9\\xab\\x98\\xe3\\x81\\x95\\xe3\\x82\\x92\\xe6\\xb1\\xba\\xe3\\x82\\x81\\xe3\\x81\\xa6\\xe3\\x81\\x8f\\xe3\\x82\\x8c\\xe3\\x82\\x8b\\xe3\\x81\\xae\\xe3\\x81\\xa7\\xe3\\x80\\x81\\n'"
       ]
      }
     ],
     "prompt_number": 290
    },
    {
     "cell_type": "code",
     "collapsed": false,
     "input": [
      "n = 50\n",
      "N = 1000\n",
      "x = np.linspace(-3, 3, n)\n",
      "X = np.linspace(-3, 3, N)\n",
      "pix = np.pi * x\n",
      "y = sin(pix)/(pix) + 0.1*x + 0.05*np.random.randn(n)"
     ],
     "language": "python",
     "metadata": {},
     "outputs": [],
     "prompt_number": 291
    },
    {
     "cell_type": "code",
     "collapsed": false,
     "input": [
      "# \u30d0\u30f3\u30c9\u5e45\n",
      "hh = 2*(0.03**2)\n",
      "# \u521d\u671f\u5024\u30d1\u30e9\u30e1\u30fc\u30bf\n",
      "# \u30d1\u30e9\u30e1\u30fc\u30bf\u306f\u3001\u5165\u529b\u30c7\u30fc\u30bf\u305d\u308c\u305e\u308c\u306b\u5bfe\u3059\u308b\u30ab\u30fc\u30cd\u30eb\u306b\u304b\u3051\u3089\u308c\u308b\u3002t * K(x, x_i) \u306750 x 1\n",
      "t0 = np.random.randn(n)\n",
      "# \u5b66\u7fd2\u4fc2\u6570\n",
      "e = 0.1"
     ],
     "language": "python",
     "metadata": {},
     "outputs": [],
     "prompt_number": 298
    },
    {
     "cell_type": "code",
     "collapsed": false,
     "input": [
      "# \u5b66\u7fd2\u56de\u6570\n",
      "learning_count = 10\n",
      "for j in np.arange(n*1000):\n",
      "    # i\u756a\u76ee\u306e\u6a19\u672c\u3092\u9078\u3076\n",
      "    i = np.ceil(np.random.rand()*n-1)\n",
      "    # i\u756a\u76ee\u306e\u30ab\u30fc\u30cd\u30eb\u8a08\u7b97(i\u306e\u5024\u306b\u3088\u3063\u3066\u5206\u5e03\u304c\u5909\u308f\u308b\u3088[\u4e0b\u56f3\u53c2\u7167])\n",
      "    ki = np.exp(-1*((x-x[int(i)])**2)/hh)\n",
      "    # \u30d1\u30e9\u30e1\u30fc\u30bf\u3092\u66f4\u65b0 (t_i\u306b\u3064\u3044\u3066\u504f\u5fae\u5206\u3057\u3066\u3084\u308c\u3070\u3088\u3044)\n",
      "    t = t0.T-e*ki*(np.dot(ki, t0)-y[i])\n",
      "    if np.linalg.norm(t-t0)<0.0001:\n",
      "        # \u5b66\u7fd2\u304c\u53ce\u675f\u3057\u305f\u3089\n",
      "        print learning_count\n",
      "        break\n",
      "\n",
      "    t0 = t\n",
      "    learning_count = learning_count + 1 "
     ],
     "language": "python",
     "metadata": {},
     "outputs": [
      {
       "output_type": "stream",
       "stream": "stdout",
       "text": [
        "1164\n"
       ]
      }
     ],
     "prompt_number": 299
    },
    {
     "cell_type": "code",
     "collapsed": false,
     "input": [
      "K=np.exp(-(np.tile(X**2, (n, 1)).T+np.tile((x**2).T, (N, 1))-2*outer(X, x.T))/hh);\n",
      "F=np.dot(K, t)"
     ],
     "language": "python",
     "metadata": {},
     "outputs": [],
     "prompt_number": 300
    },
    {
     "cell_type": "code",
     "collapsed": false,
     "input": [
      "plot(x, y, 'ro')\n",
      "plot(X, F)"
     ],
     "language": "python",
     "metadata": {},
     "outputs": [
      {
       "metadata": {},
       "output_type": "pyout",
       "prompt_number": 301,
       "text": [
        "[<matplotlib.lines.Line2D at 0x107e19c50>]"
       ]
      },
      {
       "metadata": {},
       "output_type": "display_data",
       "png": "[encoded data removed]",
       "text": [
        "<matplotlib.figure.Figure at 0x107e19dd0>"
       ]
      }
     ],
     "prompt_number": 301
    },
    {
     "cell_type": "code",
     "collapsed": false,
     "input": [],
     "language": "python",
     "metadata": {},
     "outputs": []
    }
   ],
   "metadata": {}
  }
 ]
}